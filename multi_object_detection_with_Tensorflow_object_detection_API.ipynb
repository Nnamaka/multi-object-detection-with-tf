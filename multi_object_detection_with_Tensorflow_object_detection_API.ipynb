{
  "nbformat": 4,
  "nbformat_minor": 0,
  "metadata": {
    "colab": {
      "name": "multi object detection with Tensorflow object detection API.ipynb",
      "provenance": [],
      "authorship_tag": "ABX9TyM3pecDVwYphEbKBjrA1gCY",
      "include_colab_link": true
    },
    "kernelspec": {
      "name": "python3",
      "display_name": "Python 3"
    },
    "language_info": {
      "name": "python"
    }
  },
  "cells": [
    {
      "cell_type": "markdown",
      "metadata": {
        "id": "view-in-github",
        "colab_type": "text"
      },
      "source": [
        "<a href=\"https://colab.research.google.com/github/Nnamaka/multi-object-detection-with-tf/blob/main/multi_object_detection_with_Tensorflow_object_detection_API.ipynb\" target=\"_parent\"><img src=\"https://colab.research.google.com/assets/colab-badge.svg\" alt=\"Open In Colab\"/></a>"
      ]
    },
    {
      "cell_type": "markdown",
      "source": [
        "##Multi Object Detection Using the Tensorflow Object Detection API"
      ],
      "metadata": {
        "id": "XSopwAOdz77t"
      }
    },
    {
      "cell_type": "code",
      "source": [
        ""
      ],
      "metadata": {
        "id": "Q7YfrpMZ0Do1"
      },
      "execution_count": null,
      "outputs": []
    }
  ]
}